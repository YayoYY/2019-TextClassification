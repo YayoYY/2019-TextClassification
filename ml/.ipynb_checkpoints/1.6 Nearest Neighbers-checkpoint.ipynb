{
 "cells": [
  {
   "cell_type": "markdown",
   "metadata": {},
   "source": [
    "# 理论概要\n",
    "\n",
    "最近邻是manifold learning(流形学习)和spectral clustering(谱聚类)的基础。\n",
    "\n",
    "原理是从训练样本中找到与新点在距离上最近的预定数量的几个点，然后从这些点中预测标签。 这些点的数量可以是用户自定义的常量（K-最近邻学习）， 也可以根据不同的点的局部密度（基于半径的最近邻学习）确定。距离通常可以通过任何度量来衡量： standard Euclidean distance（标准欧式距离）是最常见的选择。\n",
    "\n",
    "常见数据存储结构：Ball Tree 或 KD Tree）。\n",
    "\n",
    "最近邻适用于决策边界非常不规则的分类情景下。"
   ]
  },
  {
   "cell_type": "markdown",
   "metadata": {},
   "source": [
    "# sklearn.neighbors\n",
    "\n",
    "## NearestNeighbors\n",
    "\n",
    "无监督的学习，可以是基于k值的，也可以是基于半径的。\n",
    "\n",
    "NearestNeighbors(algorithm='auto', leaf_size=30, metric='minkowski',\n",
    "         metric_params=None, n_jobs=1, n_neighbors=5, p=2, radius=1.0)\n",
    "\n",
    "参数\n",
    "\n",
    "- n_neighbors：K值\n",
    "- radius：半径\n",
    "- algorithm：算法，{‘auto’, ‘ball_tree’, ‘kd_tree’, ‘brute’}，分别为{‘自动选择’, ‘球树’, ‘kd树’, ‘暴力法’}\n",
    "- leaf_size : BallTree和KDTree的叶子结点数，影响树的构建与查询速度\n",
    "- metric : 距离度量函数, default ‘minkowski’\n",
    "    - from scikit-learn: [‘cityblock’, ‘cosine’, ‘euclidean’, ‘l1’, ‘l2’, ‘manhattan’]\n",
    "    - from scipy.spatial.distance: [‘braycurtis’, ‘canberra’, ‘chebyshev’, ‘correlation’, ‘dice’, ‘hamming’, ‘jaccard’, ‘kulsinski’, ‘mahalanobis’, ‘minkowski’, ‘rogerstanimoto’, ‘russellrao’, ‘seuclidean’, ‘sokalmichener’, ‘sokalsneath’, ‘sqeuclidean’, ‘yule’]\n",
    "    \n",
    "方法\n",
    "\n",
    "- kneighbors(X, ...)"
   ]
  },
  {
   "cell_type": "code",
   "execution_count": 14,
   "metadata": {
    "scrolled": true
   },
   "outputs": [],
   "source": [
    "from sklearn.neighbors import NearestNeighbors\n",
    "import numpy as np\n",
    "\n",
    "X = np.array([[-1, -1], [-2, -1], [-3, -2], [1, 1], [2, 1], [3, 2]])\n",
    "nbrs = NearestNeighbors(n_neighbors=3, algorithm='ball_tree').fit(X)\n",
    "distances, indices = nbrs.kneighbors(X, n_neighbors=3)"
   ]
  },
  {
   "cell_type": "code",
   "execution_count": 15,
   "metadata": {},
   "outputs": [
    {
     "data": {
      "text/plain": [
       "array([[0.        , 1.        , 2.23606798],\n",
       "       [0.        , 1.        , 1.41421356],\n",
       "       [0.        , 1.41421356, 2.23606798],\n",
       "       [0.        , 1.        , 2.23606798],\n",
       "       [0.        , 1.        , 1.41421356],\n",
       "       [0.        , 1.41421356, 2.23606798]])"
      ]
     },
     "execution_count": 15,
     "metadata": {},
     "output_type": "execute_result"
    }
   ],
   "source": [
    "distances # 最近邻的距离"
   ]
  },
  {
   "cell_type": "code",
   "execution_count": 16,
   "metadata": {},
   "outputs": [
    {
     "data": {
      "text/plain": [
       "array([[0, 1, 2],\n",
       "       [1, 0, 2],\n",
       "       [2, 1, 0],\n",
       "       [3, 4, 5],\n",
       "       [4, 3, 5],\n",
       "       [5, 4, 3]], dtype=int64)"
      ]
     },
     "execution_count": 16,
     "metadata": {},
     "output_type": "execute_result"
    }
   ],
   "source": [
    "indices # 最近邻的索引"
   ]
  },
  {
   "cell_type": "markdown",
   "metadata": {},
   "source": [
    "## KDTree和BallTree\n",
    "\n",
    "无监督的近邻算法。\n",
    "\n",
    "初始化参数\n",
    "\n",
    "- X：数据集\n",
    "- leaf_size：树大小\n",
    "- metric：距离度量指标\n",
    "\n",
    "方法\n",
    "\n",
    "- query(X, k=?)"
   ]
  },
  {
   "cell_type": "code",
   "execution_count": 23,
   "metadata": {},
   "outputs": [],
   "source": [
    "from sklearn.neighbors import KDTree, BallTree\n",
    "import numpy as np\n",
    "X = np.array([[-1, -1], [-2, -1], [-3, -2], [1, 1], [2, 1], [3, 2]])\n",
    "kdt = KDTree(X, leaf_size=30, metric='euclidean')\n",
    "distance, indices = kdt.query(X, k=2)"
   ]
  },
  {
   "cell_type": "code",
   "execution_count": 20,
   "metadata": {},
   "outputs": [
    {
     "data": {
      "text/plain": [
       "array([[0.        , 1.        ],\n",
       "       [0.        , 1.        ],\n",
       "       [0.        , 1.41421356],\n",
       "       [0.        , 1.        ],\n",
       "       [0.        , 1.        ],\n",
       "       [0.        , 1.41421356]])"
      ]
     },
     "execution_count": 20,
     "metadata": {},
     "output_type": "execute_result"
    }
   ],
   "source": [
    "distance"
   ]
  },
  {
   "cell_type": "code",
   "execution_count": 21,
   "metadata": {
    "scrolled": true
   },
   "outputs": [
    {
     "data": {
      "text/plain": [
       "array([[0, 1],\n",
       "       [1, 0],\n",
       "       [2, 1],\n",
       "       [3, 4],\n",
       "       [4, 3],\n",
       "       [5, 4]], dtype=int64)"
      ]
     },
     "execution_count": 21,
     "metadata": {},
     "output_type": "execute_result"
    }
   ],
   "source": [
    "indices"
   ]
  },
  {
   "cell_type": "markdown",
   "metadata": {},
   "source": [
    "## KNeighborsClassifier, RadiusNeighborsClassifier\n",
    "\n",
    "KNeighborsClassifier(algorithm='auto', leaf_size=30, metric='minkowski',\n",
    "           metric_params=None, n_jobs=1, n_neighbors=5, p=2,\n",
    "           weights='uniform')\n",
    "           \n",
    "参数\n",
    "\n",
    "- n_neighbors : K值(default = 5)\n",
    "- weights : 近邻权重 (default = ‘uniform’) {‘uniform’，‘distance’，[callable]}\n",
    "    ‘uniform’ : 均匀权重\n",
    "    ‘distance’ : 权重与距离成反比\n",
    "    [callable] : 自定义距离函数\n",
    "- algorithm : {‘auto’, ‘ball_tree’, ‘kd_tree’, ‘brute’}, optional\n",
    "- eaf_size : int, optional (default = 30)\n",
    "- p : 明可夫斯基的p值 (default = 2)\n",
    "- metric : 距离度量函数， default ‘minkowski’\n",
    "- n_jobs : 并行线程数 (default=None)\n",
    "           \n",
    "RadiusNeighborsClassifier(algorithm='auto', leaf_size=30, metric='minkowski',\n",
    " metric_params=None, outlier_label=None, p=2, radius=1.0,\n",
    " weights='uniform')\n",
    " \n",
    "参数\n",
    "\n",
    "- radius : 半径 (default = 1.0)\n",
    "- outlier_label : 异常点标签，没有近邻的样本标签是什么 (default = None)\n",
    "- 其他参数：与K近邻模型相同\n",
    " "
   ]
  },
  {
   "cell_type": "code",
   "execution_count": 37,
   "metadata": {},
   "outputs": [
    {
     "data": {
      "text/plain": [
       "array([0, 0, 1])"
      ]
     },
     "execution_count": 37,
     "metadata": {},
     "output_type": "execute_result"
    }
   ],
   "source": [
    "from sklearn.neighbors import KNeighborsClassifier\n",
    "\n",
    "X = [[0], [1], [2], [3]]\n",
    "y = [0, 0, 1, 1]\n",
    "\n",
    "knc = KNeighborsClassifier(algorithm='kd_tree', n_neighbors=2).fit(X, y)\n",
    "knc.predict([[0], [1], [9]])"
   ]
  },
  {
   "cell_type": "markdown",
   "metadata": {},
   "source": [
    "## KNeighborsRegressor,RadiusNeighborsRegressor\n",
    "\n",
    "略，同分类器"
   ]
  },
  {
   "cell_type": "markdown",
   "metadata": {},
   "source": [
    "## NearestCentroid\n",
    "\n",
    "最近质心分类。先计算每个类别的质心，然后根据新样例与那个质心近来进行分类。"
   ]
  },
  {
   "cell_type": "code",
   "execution_count": 38,
   "metadata": {},
   "outputs": [
    {
     "name": "stdout",
     "output_type": "stream",
     "text": [
      "[1]\n"
     ]
    }
   ],
   "source": [
    "from sklearn.neighbors.nearest_centroid import NearestCentroid\n",
    "import numpy as np\n",
    "X = np.array([[-1, -1], [-2, -1], [-3, -2], [1, 1], [2, 1], [3, 2]])\n",
    "y = np.array([1, 1, 1, 2, 2, 2])\n",
    "clf = NearestCentroid(metric='euclidean', shrink_threshold=None)\n",
    "clf.fit(X, y)\n",
    "print(clf.predict([[-0.8, -1]]))"
   ]
  },
  {
   "cell_type": "markdown",
   "metadata": {},
   "source": [
    "# 最佳实践"
   ]
  },
  {
   "cell_type": "markdown",
   "metadata": {},
   "source": [
    "查询时间受很多因素的影响：\n",
    "\n",
    "1. 算法：暴力方法的查询时间复杂度为O(n)，BallTree的的查询时间复杂度为O(logn)，KDTree的的查询时间复杂度在低纬度的情况下是O(logn)，高纬度接近O(n)\n",
    "2. 数据结构：暴力方法对数据结构不敏感，小维度的稀疏数据适合用树的方法\n",
    "3. 查询是基于的k值：暴力方法对k值不敏感，树方法在k值增大时耗时变慢\n"
   ]
  }
 ],
 "metadata": {
  "kernelspec": {
   "display_name": "Python 3",
   "language": "python",
   "name": "python3"
  },
  "language_info": {
   "codemirror_mode": {
    "name": "ipython",
    "version": 3
   },
   "file_extension": ".py",
   "mimetype": "text/x-python",
   "name": "python",
   "nbconvert_exporter": "python",
   "pygments_lexer": "ipython3",
   "version": "3.6.5"
  }
 },
 "nbformat": 4,
 "nbformat_minor": 2
}
